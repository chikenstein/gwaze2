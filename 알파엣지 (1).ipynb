{
  "nbformat": 4,
  "nbformat_minor": 0,
  "metadata": {
    "colab": {
      "provenance": []
    },
    "kernelspec": {
      "name": "python3",
      "display_name": "Python 3"
    },
    "language_info": {
      "name": "python"
    }
  },
  "cells": [
    {
      "cell_type": "code",
      "execution_count": 7,
      "metadata": {
        "colab": {
          "base_uri": "https://localhost:8080/"
        },
        "id": "MtItT7lQhG_6",
        "outputId": "9b10ad97-0006-4734-9fa2-c482c6985473"
      },
      "outputs": [
        {
          "output_type": "stream",
          "name": "stdout",
          "text": [
            "제로\n",
            "세븐\n",
            "레오\n",
            "울트라맨 제트 알파 엣지\n"
          ]
        }
      ],
      "source": [
        "a1 = input()\n",
        "a2 = input()\n",
        "a3 = input()\n",
        "if a1 == '제로' and a2 =='세븐' and a3 == '레오':\n",
        "  print('울트라맨 제트 알파 엣지')\n",
        "if a1 == '세븐' and a2 =='제로' and a3 == '레오':\n",
        "  print('울트라맨 제트 알파 엣지')\n",
        "if a1 == '레오' and a2 =='세븐' and a3 == '제로':\n",
        "  print('울트라맨 제트 알파 엣지')\n",
        "if a1 == '세븐' and a2 =='레오' and a3 == '제로':\n",
        "  print('울트라맨 제트 알파 엣지')"
      ]
    }
  ]
}